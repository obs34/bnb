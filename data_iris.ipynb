{
 "cells": [
  {
   "cell_type": "code",
   "execution_count": null,
   "id": "b089dd4d",
   "metadata": {},
   "outputs": [],
   "source": [
    "import os\n",
    "import psycopg2\n",
    "import pandas as pd"
   ]
  },
  {
   "cell_type": "code",
   "execution_count": 2,
   "id": "d3e56df9",
   "metadata": {},
   "outputs": [
    {
     "data": {
      "text/plain": [
       "True"
      ]
     },
     "execution_count": 2,
     "metadata": {},
     "output_type": "execute_result"
    }
   ],
   "source": [
    "from dotenv import load_dotenv\n",
    "\n",
    "load_dotenv()"
   ]
  },
  {
   "cell_type": "code",
   "execution_count": 5,
   "id": "7798efab",
   "metadata": {},
   "outputs": [],
   "source": [
    "PATH_DATA_G = os.getenv('PATH_DATA_G')"
   ]
  },
  {
   "cell_type": "code",
   "execution_count": null,
   "id": "06385d76",
   "metadata": {},
   "outputs": [
    {
     "ename": "",
     "evalue": "",
     "output_type": "error",
     "traceback": [
      "\u001b[1;31mRunning cells with 'venv_bnb (Python 3.12.3)' requires the ipykernel package.\n",
      "\u001b[1;31mInstall 'ipykernel' into the Python environment. \n",
      "\u001b[1;31mCommand: 'g:/Esp-mission-Patrimoine/documentLibrary/Habitat_Amenagement/OBSERVATOIRE/02_ACTIVITES/ETUDES/ETUDES_ADIL/TRAVAIL/BNB/CLUSTER/venv_bnb/Scripts/python.exe -m pip install ipykernel -U --force-reinstall'"
     ]
    }
   ],
   "source": [
    "import data_gen\n",
    "\n",
    "bnb2022, bnb2023, décret = data_gen.tables()"
   ]
  },
  {
   "cell_type": "code",
   "execution_count": null,
   "id": "f580e58c",
   "metadata": {},
   "outputs": [],
   "source": [
    "conn = psycopg2.connect(\n",
    "    dbname=\"obs\",\n",
    "    user=\"hab\",\n",
    "    password=\"34*hab\",\n",
    "    host=\"S1943\",\n",
    "    port=\"5432\",\n",
    ")\n",
    "query = \"\"\"SELECT insee::text, cluster FROM hab.table_iris\"\"\"\n",
    "df = pd.read_sql_query(query, conn)"
   ]
  }
 ],
 "metadata": {
  "kernelspec": {
   "display_name": "venv_bnb",
   "language": "python",
   "name": "python3"
  },
  "language_info": {
   "codemirror_mode": {
    "name": "ipython",
    "version": 3
   },
   "file_extension": ".py",
   "mimetype": "text/x-python",
   "name": "python",
   "nbconvert_exporter": "python",
   "pygments_lexer": "ipython3",
   "version": "3.12.3"
  }
 },
 "nbformat": 4,
 "nbformat_minor": 5
}
